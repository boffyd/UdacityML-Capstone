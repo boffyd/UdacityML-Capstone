{
 "cells": [
  {
   "cell_type": "code",
   "execution_count": 20,
   "metadata": {},
   "outputs": [],
   "source": [
    "import pandas as pd"
   ]
  },
  {
   "cell_type": "code",
   "execution_count": 132,
   "metadata": {},
   "outputs": [
    {
     "data": {
      "text/plain": [
       "Unnamed: 0      0\n",
       "date            0\n",
       "snow_depth    176\n",
       "month           0\n",
       "year            0\n",
       "dtype: int64"
      ]
     },
     "execution_count": 132,
     "metadata": {},
     "output_type": "execute_result"
    }
   ],
   "source": [
    "# Downloading the csv file from your account\n",
    "url = 'https://raw.githubusercontent.com/boffyd/UdacityML-Capstone/main/Data/falls1.csv'\n",
    " \n",
    "snow = pd.read_csv(url)\n",
    "snow.isna().sum()"
   ]
  },
  {
   "cell_type": "code",
   "execution_count": 133,
   "metadata": {},
   "outputs": [
    {
     "data": {
      "text/plain": [
       "Unnamed: 0    0\n",
       "date          0\n",
       "snow_depth    1\n",
       "month         0\n",
       "year          0\n",
       "dtype: int64"
      ]
     },
     "execution_count": 133,
     "metadata": {},
     "output_type": "execute_result"
    }
   ],
   "source": [
    "snow.fillna(method='ffill', inplace=True)\n",
    "snow.isna().sum()"
   ]
  },
  {
   "cell_type": "code",
   "execution_count": 134,
   "metadata": {},
   "outputs": [
    {
     "data": {
      "text/html": [
       "<div>\n",
       "<style scoped>\n",
       "    .dataframe tbody tr th:only-of-type {\n",
       "        vertical-align: middle;\n",
       "    }\n",
       "\n",
       "    .dataframe tbody tr th {\n",
       "        vertical-align: top;\n",
       "    }\n",
       "\n",
       "    .dataframe thead th {\n",
       "        text-align: right;\n",
       "    }\n",
       "</style>\n",
       "<table border=\"1\" class=\"dataframe\">\n",
       "  <thead>\n",
       "    <tr style=\"text-align: right;\">\n",
       "      <th></th>\n",
       "      <th>Unnamed: 0</th>\n",
       "      <th>date</th>\n",
       "      <th>snow_depth</th>\n",
       "      <th>month</th>\n",
       "      <th>year</th>\n",
       "    </tr>\n",
       "  </thead>\n",
       "  <tbody>\n",
       "    <tr>\n",
       "      <th>0</th>\n",
       "      <td>1</td>\n",
       "      <td>2020-06-05</td>\n",
       "      <td>NaN</td>\n",
       "      <td>6</td>\n",
       "      <td>2020</td>\n",
       "    </tr>\n",
       "    <tr>\n",
       "      <th>1</th>\n",
       "      <td>2</td>\n",
       "      <td>2020-06-06</td>\n",
       "      <td>0.0</td>\n",
       "      <td>6</td>\n",
       "      <td>2020</td>\n",
       "    </tr>\n",
       "    <tr>\n",
       "      <th>2</th>\n",
       "      <td>3</td>\n",
       "      <td>2020-06-07</td>\n",
       "      <td>0.0</td>\n",
       "      <td>6</td>\n",
       "      <td>2020</td>\n",
       "    </tr>\n",
       "    <tr>\n",
       "      <th>3</th>\n",
       "      <td>4</td>\n",
       "      <td>2020-06-08</td>\n",
       "      <td>0.0</td>\n",
       "      <td>6</td>\n",
       "      <td>2020</td>\n",
       "    </tr>\n",
       "    <tr>\n",
       "      <th>4</th>\n",
       "      <td>5</td>\n",
       "      <td>2020-06-09</td>\n",
       "      <td>0.0</td>\n",
       "      <td>6</td>\n",
       "      <td>2020</td>\n",
       "    </tr>\n",
       "  </tbody>\n",
       "</table>\n",
       "</div>"
      ],
      "text/plain": [
       "   Unnamed: 0        date  snow_depth  month  year\n",
       "0           1  2020-06-05         NaN      6  2020\n",
       "1           2  2020-06-06         0.0      6  2020\n",
       "2           3  2020-06-07         0.0      6  2020\n",
       "3           4  2020-06-08         0.0      6  2020\n",
       "4           5  2020-06-09         0.0      6  2020"
      ]
     },
     "execution_count": 134,
     "metadata": {},
     "output_type": "execute_result"
    }
   ],
   "source": [
    "snow.head()"
   ]
  },
  {
   "cell_type": "code",
   "execution_count": 128,
   "metadata": {},
   "outputs": [],
   "source": [
    "def get_git_csv_temp(url):\n",
    "    '''Reads in a csv file which is assumed to have the following columns\n",
    "    'Product code'\n",
    "    'Bureau of Meteorology station number'\n",
    "    'Year'\n",
    "    'Month'\n",
    "    'Day'\n",
    "    'Maximum temperature (Degree C)'\n",
    "    'Days of accumulation of maximum temperature'\n",
    "    'Quality'\n",
    "    \n",
    "       This function does two things: \n",
    "       1) Drops Unwanted Columns \n",
    "       2) Parses Date Column\n",
    "\n",
    "       Source texts have a special label, -1.\n",
    "       :param csv_file: The directory for the file_information.csv file\n",
    "       :return: A dataframe with date and Maximum temperature'''\n",
    "    \n",
    "    # Pass the csv file to a create a dataframe for pre processing.\n",
    "    df = pd.read_csv(url)\n",
    "    \n",
    "    df = df.drop(columns = ['Product code',\n",
    "                            'Bureau of Meteorology station number',\n",
    "                            'Days of accumulation of maximum temperature',\n",
    "                            'Quality'])\n",
    "    # Parse the date column\n",
    "    df['Date'] = pd.to_datetime(df[['Year', 'Month', 'Day']])\n",
    "    \n",
    "    # Drop the unwanted columns\n",
    "    df = df.drop(columns = ['Year', 'Month', 'Day'])\n",
    "    \n",
    "    return df"
   ]
  },
  {
   "cell_type": "code",
   "execution_count": 129,
   "metadata": {},
   "outputs": [],
   "source": [
    "def get_git_csv_rain(url):\n",
    "    '''Reads in a csv file which is assumed to have the following columns\n",
    "    'Product code'\n",
    "    'Bureau of Meteorology station number'\n",
    "    'Year'\n",
    "    'Month'\n",
    "    'Day'\n",
    "    'Maximum temperature (Degree C)'\n",
    "    'Days of accumulation of maximum temperature'\n",
    "    'Quality'\n",
    "    \n",
    "       This function does two things: \n",
    "       1) Drops Unwanted Columns \n",
    "       2) Parses Date Column\n",
    "\n",
    "       Source texts have a special label, -1.\n",
    "       :param csv_file: The directory for the file_information.csv file\n",
    "       :return: A dataframe with date and Maximum temperature'''\n",
    "    \n",
    "    # Pass the csv file to a create a dataframe for pre processing.\n",
    "    df = pd.read_csv(url)\n",
    "    \n",
    "    df = df.drop(columns = ['Product code',\n",
    "                            'Bureau of Meteorology station number',\n",
    "                            'Period over which rainfall was measured (days)',\n",
    "                            'Quality'])\n",
    "    # Parse the date column\n",
    "    df['Date'] = pd.to_datetime(df[['Year', 'Month', 'Day']])\n",
    "    \n",
    "    # Drop the unwanted columns\n",
    "    df = df.drop(columns = ['Year', 'Month', 'Day'])\n",
    "    \n",
    "    return df"
   ]
  },
  {
   "cell_type": "code",
   "execution_count": 130,
   "metadata": {},
   "outputs": [],
   "source": [
    "temp_2016 = get_git_csv_temp('https://raw.githubusercontent.com/boffyd/UdacityML-Capstone/main/Data/MAXT_IDCJAC0010_083084_2016_Data.csv')\n",
    "temp_2017 = get_git_csv_temp('https://raw.githubusercontent.com/boffyd/UdacityML-Capstone/main/Data/MAXT_IDCJAC0010_083084_2017_Data.csv')\n",
    "temp_2018 = get_git_csv_temp('https://raw.githubusercontent.com/boffyd/UdacityML-Capstone/main/Data/MAXT_IDCJAC0010_083084_2018_Data.csv')\n",
    "temp_2019 = get_git_csv_temp('https://raw.githubusercontent.com/boffyd/UdacityML-Capstone/main/Data/MAXT_IDCJAC0010_083084_2019_Data.csv')\n",
    "temp_2020 = get_git_csv_temp('https://raw.githubusercontent.com/boffyd/UdacityML-Capstone/main/Data/MAXT_IDCJAC0010_083084_2020_Data.csv')\n",
    "temp_2021 = get_git_csv_temp('https://raw.githubusercontent.com/boffyd/UdacityML-Capstone/main/Data/MAXT_IDCJAC0010_083084_2021_Data.csv')\n",
    "\n",
    "rain_2016 = get_git_csv_rain('https://raw.githubusercontent.com/boffyd/UdacityML-Capstone/main/Data/RAIN_IDCJAC0009_083084_2016_Data.csv')\n",
    "rain_2017 = get_git_csv_rain('https://raw.githubusercontent.com/boffyd/UdacityML-Capstone/main/Data/RAIN_IDCJAC0009_083084_2017_Data.csv')\n",
    "rain_2018 = get_git_csv_rain('https://raw.githubusercontent.com/boffyd/UdacityML-Capstone/main/Data/RAIN_IDCJAC0009_083084_2018_Data.csv')\n",
    "rain_2019 = get_git_csv_rain('https://raw.githubusercontent.com/boffyd/UdacityML-Capstone/main/Data/RAIN_IDCJAC0009_083084_2019_Data.csv')\n",
    "rain_2020 = get_git_csv_rain('https://raw.githubusercontent.com/boffyd/UdacityML-Capstone/main/Data/RAIN_IDCJAC0009_083084_2020_Data.csv')\n",
    "rain_2021 = get_git_csv_rain('https://raw.githubusercontent.com/boffyd/UdacityML-Capstone/main/Data/RAIN_IDCJAC0009_083084_2021_Data.csv')\n",
    "\n",
    "\n",
    "temp = pd.concat([temp_2016,temp_2017,temp_2018,temp_2019,temp_2020,temp_2021])\n",
    "rain = pd.concat([rain_2016,rain_2017,rain_2018,rain_2019,rain_2020,rain_2021])\n",
    "\n",
    "weather = temp.merge(rain, on='Date', how='left')"
   ]
  },
  {
   "cell_type": "code",
   "execution_count": 131,
   "metadata": {},
   "outputs": [
    {
     "data": {
      "text/html": [
       "<div>\n",
       "<style scoped>\n",
       "    .dataframe tbody tr th:only-of-type {\n",
       "        vertical-align: middle;\n",
       "    }\n",
       "\n",
       "    .dataframe tbody tr th {\n",
       "        vertical-align: top;\n",
       "    }\n",
       "\n",
       "    .dataframe thead th {\n",
       "        text-align: right;\n",
       "    }\n",
       "</style>\n",
       "<table border=\"1\" class=\"dataframe\">\n",
       "  <thead>\n",
       "    <tr style=\"text-align: right;\">\n",
       "      <th></th>\n",
       "      <th>Maximum temperature (Degree C)</th>\n",
       "      <th>Date</th>\n",
       "      <th>Rainfall amount (millimetres)</th>\n",
       "    </tr>\n",
       "  </thead>\n",
       "  <tbody>\n",
       "    <tr>\n",
       "      <th>0</th>\n",
       "      <td>21.2</td>\n",
       "      <td>2016-01-01</td>\n",
       "      <td>0.0</td>\n",
       "    </tr>\n",
       "    <tr>\n",
       "      <th>1</th>\n",
       "      <td>15.4</td>\n",
       "      <td>2016-01-02</td>\n",
       "      <td>1.8</td>\n",
       "    </tr>\n",
       "    <tr>\n",
       "      <th>2</th>\n",
       "      <td>9.7</td>\n",
       "      <td>2016-01-03</td>\n",
       "      <td>9.4</td>\n",
       "    </tr>\n",
       "    <tr>\n",
       "      <th>3</th>\n",
       "      <td>8.5</td>\n",
       "      <td>2016-01-04</td>\n",
       "      <td>14.0</td>\n",
       "    </tr>\n",
       "    <tr>\n",
       "      <th>4</th>\n",
       "      <td>12.4</td>\n",
       "      <td>2016-01-05</td>\n",
       "      <td>17.8</td>\n",
       "    </tr>\n",
       "  </tbody>\n",
       "</table>\n",
       "</div>"
      ],
      "text/plain": [
       "   Maximum temperature (Degree C)       Date  Rainfall amount (millimetres)\n",
       "0                            21.2 2016-01-01                            0.0\n",
       "1                            15.4 2016-01-02                            1.8\n",
       "2                             9.7 2016-01-03                            9.4\n",
       "3                             8.5 2016-01-04                           14.0\n",
       "4                            12.4 2016-01-05                           17.8"
      ]
     },
     "execution_count": 131,
     "metadata": {},
     "output_type": "execute_result"
    }
   ],
   "source": [
    "weather.head()"
   ]
  },
  {
   "cell_type": "code",
   "execution_count": 135,
   "metadata": {},
   "outputs": [
    {
     "data": {
      "text/plain": [
       "Maximum temperature (Degree C)           float64\n",
       "Date                              datetime64[ns]\n",
       "Rainfall amount (millimetres)            float64\n",
       "dtype: object"
      ]
     },
     "execution_count": 135,
     "metadata": {},
     "output_type": "execute_result"
    }
   ],
   "source": [
    "weather.dtypes"
   ]
  },
  {
   "cell_type": "code",
   "execution_count": 136,
   "metadata": {},
   "outputs": [
    {
     "data": {
      "text/plain": [
       "Unnamed: 0      int64\n",
       "date           object\n",
       "snow_depth    float64\n",
       "month           int64\n",
       "year            int64\n",
       "dtype: object"
      ]
     },
     "execution_count": 136,
     "metadata": {},
     "output_type": "execute_result"
    }
   ],
   "source": [
    "snow.dtypes"
   ]
  },
  {
   "cell_type": "code",
   "execution_count": null,
   "metadata": {},
   "outputs": [],
   "source": []
  }
 ],
 "metadata": {
  "kernelspec": {
   "display_name": "Python 3",
   "language": "python",
   "name": "python3"
  },
  "language_info": {
   "codemirror_mode": {
    "name": "ipython",
    "version": 3
   },
   "file_extension": ".py",
   "mimetype": "text/x-python",
   "name": "python",
   "nbconvert_exporter": "python",
   "pygments_lexer": "ipython3",
   "version": "3.7.4"
  }
 },
 "nbformat": 4,
 "nbformat_minor": 2
}
